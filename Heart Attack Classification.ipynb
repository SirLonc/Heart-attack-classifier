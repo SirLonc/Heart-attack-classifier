{
 "cells": [
  {
   "cell_type": "code",
   "execution_count": 10,
   "id": "bd01e224",
   "metadata": {},
   "outputs": [],
   "source": [
    "## Data Manuplation\n",
    "import pandas as pd\n",
    "import numpy as np\n",
    "import seaborn as sns\n",
    "import warnings\n",
    "## For insignificant warnings\n",
    "warnings.simplefilter(action='ignore', category=Warning)\n",
    "warnings.filterwarnings(\"ignore\", category=DeprecationWarning)\n",
    "warnings.filterwarnings(\"ignore\", category=FutureWarning)"
   ]
  },
  {
   "cell_type": "code",
   "execution_count": 4,
   "id": "deeacc07",
   "metadata": {},
   "outputs": [],
   "source": [
    "## Classification\n",
    "from sklearn.linear_model import LogisticRegression\n",
    "from sklearn.tree import DecisionTreeClassifier, export_graphviz, export_text\n",
    "from xgboost import XGBClassifier\n",
    "from lightgbm import LGBMClassifier\n",
    "from catboost import CatBoostClassifier\n",
    "from sklearn.neighbors import KNeighborsClassifier\n",
    "from sklearn.svm import SVC\n",
    "from sklearn.tree import DecisionTreeClassifier\n",
    "from sklearn.ensemble import RandomForestClassifier, GradientBoostingClassifier, VotingClassifier, AdaBoostClassifier\n",
    "\n",
    "## Feature Engineering and Testing Model\n",
    "from sklearn.model_selection import train_test_split, cross_validate, cross_val_score, GridSearchCV,\\\n",
    "    validation_curve, RandomizedSearchCV\n",
    "from sklearn.metrics import accuracy_score, roc_auc_score, confusion_matrix, classification_report,\\\n",
    "    plot_roc_curve, mean_squared_error, mean_absolute_error\n",
    "import statsmodels.api as sm\n",
    "from sklearn.preprocessing import MinMaxScaler, LabelEncoder, StandardScaler, RobustScaler"
   ]
  },
  {
   "cell_type": "code",
   "execution_count": 6,
   "id": "e023360d",
   "metadata": {},
   "outputs": [],
   "source": [
    "data = pd.read_csv('Downloads/heart.csv')"
   ]
  },
  {
   "cell_type": "code",
   "execution_count": 7,
   "id": "dc7d8cb8",
   "metadata": {},
   "outputs": [
    {
     "data": {
      "text/html": [
       "<div>\n",
       "<style scoped>\n",
       "    .dataframe tbody tr th:only-of-type {\n",
       "        vertical-align: middle;\n",
       "    }\n",
       "\n",
       "    .dataframe tbody tr th {\n",
       "        vertical-align: top;\n",
       "    }\n",
       "\n",
       "    .dataframe thead th {\n",
       "        text-align: right;\n",
       "    }\n",
       "</style>\n",
       "<table border=\"1\" class=\"dataframe\">\n",
       "  <thead>\n",
       "    <tr style=\"text-align: right;\">\n",
       "      <th></th>\n",
       "      <th>age</th>\n",
       "      <th>sex</th>\n",
       "      <th>cp</th>\n",
       "      <th>trtbps</th>\n",
       "      <th>chol</th>\n",
       "      <th>fbs</th>\n",
       "      <th>restecg</th>\n",
       "      <th>thalachh</th>\n",
       "      <th>exng</th>\n",
       "      <th>oldpeak</th>\n",
       "      <th>slp</th>\n",
       "      <th>caa</th>\n",
       "      <th>thall</th>\n",
       "      <th>output</th>\n",
       "    </tr>\n",
       "  </thead>\n",
       "  <tbody>\n",
       "    <tr>\n",
       "      <th>0</th>\n",
       "      <td>63</td>\n",
       "      <td>1</td>\n",
       "      <td>3</td>\n",
       "      <td>145</td>\n",
       "      <td>233</td>\n",
       "      <td>1</td>\n",
       "      <td>0</td>\n",
       "      <td>150</td>\n",
       "      <td>0</td>\n",
       "      <td>2.3</td>\n",
       "      <td>0</td>\n",
       "      <td>0</td>\n",
       "      <td>1</td>\n",
       "      <td>1</td>\n",
       "    </tr>\n",
       "    <tr>\n",
       "      <th>1</th>\n",
       "      <td>37</td>\n",
       "      <td>1</td>\n",
       "      <td>2</td>\n",
       "      <td>130</td>\n",
       "      <td>250</td>\n",
       "      <td>0</td>\n",
       "      <td>1</td>\n",
       "      <td>187</td>\n",
       "      <td>0</td>\n",
       "      <td>3.5</td>\n",
       "      <td>0</td>\n",
       "      <td>0</td>\n",
       "      <td>2</td>\n",
       "      <td>1</td>\n",
       "    </tr>\n",
       "    <tr>\n",
       "      <th>2</th>\n",
       "      <td>41</td>\n",
       "      <td>0</td>\n",
       "      <td>1</td>\n",
       "      <td>130</td>\n",
       "      <td>204</td>\n",
       "      <td>0</td>\n",
       "      <td>0</td>\n",
       "      <td>172</td>\n",
       "      <td>0</td>\n",
       "      <td>1.4</td>\n",
       "      <td>2</td>\n",
       "      <td>0</td>\n",
       "      <td>2</td>\n",
       "      <td>1</td>\n",
       "    </tr>\n",
       "    <tr>\n",
       "      <th>3</th>\n",
       "      <td>56</td>\n",
       "      <td>1</td>\n",
       "      <td>1</td>\n",
       "      <td>120</td>\n",
       "      <td>236</td>\n",
       "      <td>0</td>\n",
       "      <td>1</td>\n",
       "      <td>178</td>\n",
       "      <td>0</td>\n",
       "      <td>0.8</td>\n",
       "      <td>2</td>\n",
       "      <td>0</td>\n",
       "      <td>2</td>\n",
       "      <td>1</td>\n",
       "    </tr>\n",
       "    <tr>\n",
       "      <th>4</th>\n",
       "      <td>57</td>\n",
       "      <td>0</td>\n",
       "      <td>0</td>\n",
       "      <td>120</td>\n",
       "      <td>354</td>\n",
       "      <td>0</td>\n",
       "      <td>1</td>\n",
       "      <td>163</td>\n",
       "      <td>1</td>\n",
       "      <td>0.6</td>\n",
       "      <td>2</td>\n",
       "      <td>0</td>\n",
       "      <td>2</td>\n",
       "      <td>1</td>\n",
       "    </tr>\n",
       "    <tr>\n",
       "      <th>...</th>\n",
       "      <td>...</td>\n",
       "      <td>...</td>\n",
       "      <td>...</td>\n",
       "      <td>...</td>\n",
       "      <td>...</td>\n",
       "      <td>...</td>\n",
       "      <td>...</td>\n",
       "      <td>...</td>\n",
       "      <td>...</td>\n",
       "      <td>...</td>\n",
       "      <td>...</td>\n",
       "      <td>...</td>\n",
       "      <td>...</td>\n",
       "      <td>...</td>\n",
       "    </tr>\n",
       "    <tr>\n",
       "      <th>298</th>\n",
       "      <td>57</td>\n",
       "      <td>0</td>\n",
       "      <td>0</td>\n",
       "      <td>140</td>\n",
       "      <td>241</td>\n",
       "      <td>0</td>\n",
       "      <td>1</td>\n",
       "      <td>123</td>\n",
       "      <td>1</td>\n",
       "      <td>0.2</td>\n",
       "      <td>1</td>\n",
       "      <td>0</td>\n",
       "      <td>3</td>\n",
       "      <td>0</td>\n",
       "    </tr>\n",
       "    <tr>\n",
       "      <th>299</th>\n",
       "      <td>45</td>\n",
       "      <td>1</td>\n",
       "      <td>3</td>\n",
       "      <td>110</td>\n",
       "      <td>264</td>\n",
       "      <td>0</td>\n",
       "      <td>1</td>\n",
       "      <td>132</td>\n",
       "      <td>0</td>\n",
       "      <td>1.2</td>\n",
       "      <td>1</td>\n",
       "      <td>0</td>\n",
       "      <td>3</td>\n",
       "      <td>0</td>\n",
       "    </tr>\n",
       "    <tr>\n",
       "      <th>300</th>\n",
       "      <td>68</td>\n",
       "      <td>1</td>\n",
       "      <td>0</td>\n",
       "      <td>144</td>\n",
       "      <td>193</td>\n",
       "      <td>1</td>\n",
       "      <td>1</td>\n",
       "      <td>141</td>\n",
       "      <td>0</td>\n",
       "      <td>3.4</td>\n",
       "      <td>1</td>\n",
       "      <td>2</td>\n",
       "      <td>3</td>\n",
       "      <td>0</td>\n",
       "    </tr>\n",
       "    <tr>\n",
       "      <th>301</th>\n",
       "      <td>57</td>\n",
       "      <td>1</td>\n",
       "      <td>0</td>\n",
       "      <td>130</td>\n",
       "      <td>131</td>\n",
       "      <td>0</td>\n",
       "      <td>1</td>\n",
       "      <td>115</td>\n",
       "      <td>1</td>\n",
       "      <td>1.2</td>\n",
       "      <td>1</td>\n",
       "      <td>1</td>\n",
       "      <td>3</td>\n",
       "      <td>0</td>\n",
       "    </tr>\n",
       "    <tr>\n",
       "      <th>302</th>\n",
       "      <td>57</td>\n",
       "      <td>0</td>\n",
       "      <td>1</td>\n",
       "      <td>130</td>\n",
       "      <td>236</td>\n",
       "      <td>0</td>\n",
       "      <td>0</td>\n",
       "      <td>174</td>\n",
       "      <td>0</td>\n",
       "      <td>0.0</td>\n",
       "      <td>1</td>\n",
       "      <td>1</td>\n",
       "      <td>2</td>\n",
       "      <td>0</td>\n",
       "    </tr>\n",
       "  </tbody>\n",
       "</table>\n",
       "<p>303 rows × 14 columns</p>\n",
       "</div>"
      ],
      "text/plain": [
       "     age  sex  cp  trtbps  chol  fbs  restecg  thalachh  exng  oldpeak  slp  \\\n",
       "0     63    1   3     145   233    1        0       150     0      2.3    0   \n",
       "1     37    1   2     130   250    0        1       187     0      3.5    0   \n",
       "2     41    0   1     130   204    0        0       172     0      1.4    2   \n",
       "3     56    1   1     120   236    0        1       178     0      0.8    2   \n",
       "4     57    0   0     120   354    0        1       163     1      0.6    2   \n",
       "..   ...  ...  ..     ...   ...  ...      ...       ...   ...      ...  ...   \n",
       "298   57    0   0     140   241    0        1       123     1      0.2    1   \n",
       "299   45    1   3     110   264    0        1       132     0      1.2    1   \n",
       "300   68    1   0     144   193    1        1       141     0      3.4    1   \n",
       "301   57    1   0     130   131    0        1       115     1      1.2    1   \n",
       "302   57    0   1     130   236    0        0       174     0      0.0    1   \n",
       "\n",
       "     caa  thall  output  \n",
       "0      0      1       1  \n",
       "1      0      2       1  \n",
       "2      0      2       1  \n",
       "3      0      2       1  \n",
       "4      0      2       1  \n",
       "..   ...    ...     ...  \n",
       "298    0      3       0  \n",
       "299    0      3       0  \n",
       "300    2      3       0  \n",
       "301    1      3       0  \n",
       "302    1      2       0  \n",
       "\n",
       "[303 rows x 14 columns]"
      ]
     },
     "execution_count": 7,
     "metadata": {},
     "output_type": "execute_result"
    }
   ],
   "source": [
    "data"
   ]
  },
  {
   "cell_type": "code",
   "execution_count": 11,
   "id": "73f4bae8",
   "metadata": {},
   "outputs": [
    {
     "name": "stdout",
     "output_type": "stream",
     "text": [
      "Base Models....\n",
      "roc_auc: 0.9001 (LR) \n",
      "roc_auc: 0.6594 (KNN) \n",
      "roc_auc: 0.7054 (SVC) \n",
      "roc_auc: 0.7036 (CART) \n",
      "roc_auc: 0.904 (RF) \n",
      "roc_auc: 0.8418 (Adaboost) \n",
      "roc_auc: 0.8926 (GBM) \n",
      "roc_auc: 0.8938 (XGBoost) \n",
      "roc_auc: 0.8933 (LightGBM) \n",
      "roc_auc: 0.9074 (CatBoost) \n"
     ]
    }
   ],
   "source": [
    "def base_models_classification(X, y, scoring=\"roc_auc\"):\n",
    "    print(\"Base Models....\")\n",
    "    classifiers = [('LR', LogisticRegression()),\n",
    "                   ('KNN', KNeighborsClassifier()),\n",
    "                   (\"SVC\", SVC()),\n",
    "                   (\"CART\", DecisionTreeClassifier()),\n",
    "                   (\"RF\", RandomForestClassifier()),\n",
    "                   ('Adaboost', AdaBoostClassifier()),\n",
    "                   ('GBM', GradientBoostingClassifier()),\n",
    "                   ('XGBoost', XGBClassifier(use_label_encoder=False, eval_metric='logloss')),\n",
    "                   ('LightGBM', LGBMClassifier()),\n",
    "                   ('CatBoost', CatBoostClassifier(verbose=False))\n",
    "                   ]\n",
    "\n",
    "    for name, classifier in classifiers:\n",
    "        cv_results = cross_validate(classifier, X, y, cv=3, scoring=scoring)\n",
    "        print(f\"{scoring}: {round(cv_results['test_score'].mean(), 4)} ({name}) \")\n",
    "\n",
    "y = data[\"output\"]\n",
    "X = data.drop([\"output\"], axis = 1)\n",
    "\n",
    "base_models_classification(X,y)"
   ]
  },
  {
   "cell_type": "markdown",
   "id": "3353041e",
   "metadata": {},
   "source": [
    "We compared different classification models. I will drop some clfs later"
   ]
  },
  {
   "cell_type": "markdown",
   "id": "afa57261",
   "metadata": {},
   "source": [
    "Analyzing the Dataset"
   ]
  },
  {
   "cell_type": "code",
   "execution_count": 45,
   "id": "54615501",
   "metadata": {},
   "outputs": [
    {
     "name": "stdout",
     "output_type": "stream",
     "text": [
      "############### OBSERVATIONS-COLUMNS COUNTS ###############\n",
      "\n",
      "\n",
      "(303, 16)\n",
      "############### INDEX ###############\n",
      "\n",
      "\n",
      "RangeIndex(start=0, stop=303, step=1)\n",
      "############### COLUMNS ###############\n",
      "\n",
      "\n",
      "Index(['cp', 'oldpeak', 'caa', 'output', 'scoring', 'age_group_Young', 'sex_1',\n",
      "       'slp_1', 'slp_2', 'thall_1', 'thall_2', 'thall_3', 'exng_1',\n",
      "       'restecg_1', 'restecg_2', 'fbs_1'],\n",
      "      dtype='object')\n",
      "############### DATAFRAME INFORMATIONS ###############\n",
      "\n",
      "\n",
      "<class 'pandas.core.frame.DataFrame'>\n",
      "RangeIndex: 303 entries, 0 to 302\n",
      "Data columns (total 16 columns):\n",
      " #   Column           Non-Null Count  Dtype  \n",
      "---  ------           --------------  -----  \n",
      " 0   cp               303 non-null    int32  \n",
      " 1   oldpeak          303 non-null    float64\n",
      " 2   caa              303 non-null    int64  \n",
      " 3   output           303 non-null    int64  \n",
      " 4   scoring          303 non-null    float64\n",
      " 5   age_group_Young  303 non-null    uint8  \n",
      " 6   sex_1            303 non-null    uint8  \n",
      " 7   slp_1            303 non-null    uint8  \n",
      " 8   slp_2            303 non-null    uint8  \n",
      " 9   thall_1          303 non-null    uint8  \n",
      " 10  thall_2          303 non-null    uint8  \n",
      " 11  thall_3          303 non-null    uint8  \n",
      " 12  exng_1           303 non-null    uint8  \n",
      " 13  restecg_1        303 non-null    uint8  \n",
      " 14  restecg_2        303 non-null    uint8  \n",
      " 15  fbs_1            303 non-null    uint8  \n",
      "dtypes: float64(2), int32(1), int64(2), uint8(11)\n",
      "memory usage: 14.0 KB\n",
      "None\n",
      "############### DATAFRAME INFORMATIONS ###############\n",
      "\n",
      "\n",
      "                 count      mean       std  min   1%  25%       50%       75%  \\\n",
      "cp               303.0  0.528053  0.500038  0.0  0.0  0.0  1.000000  1.000000   \n",
      "oldpeak          303.0  0.167678  0.187270  0.0  0.0  0.0  0.129032  0.258065   \n",
      "caa              303.0  0.729373  1.022606  0.0  0.0  0.0  0.000000  1.000000   \n",
      "output           303.0  0.544554  0.498835  0.0  0.0  0.0  1.000000  1.000000   \n",
      "scoring          303.0  0.502970  0.239116  0.0  0.0  0.4  0.600000  0.600000   \n",
      "age_group_Young  303.0  0.577558  0.494765  0.0  0.0  0.0  1.000000  1.000000   \n",
      "sex_1            303.0  0.683168  0.466011  0.0  0.0  0.0  1.000000  1.000000   \n",
      "slp_1            303.0  0.462046  0.499382  0.0  0.0  0.0  0.000000  1.000000   \n",
      "slp_2            303.0  0.468647  0.499842  0.0  0.0  0.0  0.000000  1.000000   \n",
      "thall_1          303.0  0.059406  0.236774  0.0  0.0  0.0  0.000000  0.000000   \n",
      "thall_2          303.0  0.547855  0.498528  0.0  0.0  0.0  1.000000  1.000000   \n",
      "thall_3          303.0  0.386139  0.487668  0.0  0.0  0.0  0.000000  1.000000   \n",
      "exng_1           303.0  0.326733  0.469794  0.0  0.0  0.0  0.000000  1.000000   \n",
      "restecg_1        303.0  0.501650  0.500824  0.0  0.0  0.0  1.000000  1.000000   \n",
      "restecg_2        303.0  0.013201  0.114325  0.0  0.0  0.0  0.000000  0.000000   \n",
      "fbs_1            303.0  0.148515  0.356198  0.0  0.0  0.0  0.000000  0.000000   \n",
      "\n",
      "                      99%  max  \n",
      "cp               1.000000  1.0  \n",
      "oldpeak          0.677419  1.0  \n",
      "caa              4.000000  4.0  \n",
      "output           1.000000  1.0  \n",
      "scoring          1.000000  1.0  \n",
      "age_group_Young  1.000000  1.0  \n",
      "sex_1            1.000000  1.0  \n",
      "slp_1            1.000000  1.0  \n",
      "slp_2            1.000000  1.0  \n",
      "thall_1          1.000000  1.0  \n",
      "thall_2          1.000000  1.0  \n",
      "thall_3          1.000000  1.0  \n",
      "exng_1           1.000000  1.0  \n",
      "restecg_1        1.000000  1.0  \n",
      "restecg_2        0.980000  1.0  \n",
      "fbs_1            1.000000  1.0  \n"
     ]
    }
   ],
   "source": [
    "def data_info(data):\n",
    "    print(\"############### OBSERVATIONS-COLUMNS COUNTS ###############\")\n",
    "    print(\"\\n\")\n",
    "    print(data.shape)\n",
    "    print(\"############### INDEX ###############\")\n",
    "    print(\"\\n\")\n",
    "    print(data.index)\n",
    "    print(\"############### COLUMNS ###############\")\n",
    "    print(\"\\n\")\n",
    "    print(data.columns)\n",
    "    print(\"############### DATAFRAME INFORMATIONS ###############\")\n",
    "    print(\"\\n\")\n",
    "    print(data.info())\n",
    "    print(\"############### DATAFRAME INFORMATIONS ###############\")\n",
    "    print(\"\\n\")\n",
    "    print(data.describe([0.01, 0.25, 0.50, 0.75, 0.99]).T)\n",
    "\n",
    "data_info(data)"
   ]
  },
  {
   "cell_type": "markdown",
   "id": "62ed930d",
   "metadata": {},
   "source": [
    "We can say that all variables are normally distributed."
   ]
  },
  {
   "cell_type": "code",
   "execution_count": 14,
   "id": "621015e9",
   "metadata": {},
   "outputs": [
    {
     "data": {
      "text/plain": [
       "age         0\n",
       "sex         0\n",
       "cp          0\n",
       "trtbps      0\n",
       "chol        0\n",
       "fbs         0\n",
       "restecg     0\n",
       "thalachh    0\n",
       "exng        0\n",
       "oldpeak     0\n",
       "slp         0\n",
       "caa         0\n",
       "thall       0\n",
       "output      0\n",
       "dtype: int64"
      ]
     },
     "execution_count": 14,
     "metadata": {},
     "output_type": "execute_result"
    }
   ],
   "source": [
    "data.isnull().sum()"
   ]
  },
  {
   "cell_type": "markdown",
   "id": "561420ab",
   "metadata": {},
   "source": [
    "Great.There is no missing value in dataset"
   ]
  },
  {
   "cell_type": "code",
   "execution_count": 17,
   "id": "93009eb2",
   "metadata": {},
   "outputs": [
    {
     "data": {
      "text/plain": [
       "<AxesSubplot:>"
      ]
     },
     "execution_count": 17,
     "metadata": {},
     "output_type": "execute_result"
    },
    {
     "data": {
      "image/png": "[encoded data removed]",
      "text/plain": [
       "<Figure size 1080x576 with 2 Axes>"
      ]
     },
     "metadata": {},
     "output_type": "display_data"
    }
   ],
   "source": [
    "correlation = data.corr()\n",
    "sns.set(rc = {'figure.figsize':(15,8)})\n",
    "sns.heatmap(correlation, xticklabels=correlation.columns, yticklabels=correlation.columns, annot=True)"
   ]
  },
  {
   "cell_type": "markdown",
   "id": "099f8c9b",
   "metadata": {},
   "source": [
    "We can say that there is no high correlation between variables"
   ]
  },
  {
   "cell_type": "code",
   "execution_count": 24,
   "id": "f7006570",
   "metadata": {},
   "outputs": [],
   "source": [
    "def one_hot_encoding(df, cat_cols, drop_first = False, dummy_na = False):\n",
    "    df = pd.get_dummies(df, columns = cat_cols, dummy_na = dummy_na, drop_first = drop_first)\n",
    "    return df"
   ]
  },
  {
   "cell_type": "code",
   "execution_count": 25,
   "id": "7e2bb028",
   "metadata": {},
   "outputs": [],
   "source": [
    "def feature_scaling(df, num_col, type = \"MinMax\", p = 0, q = 1):\n",
    "    \"For inversing the transformation, you can use inverse_transform to the variable you assing for scaling\"\n",
    "    if (type == \"MinMax\"):\n",
    "        scaler = MinMaxScaler(feature_range = (p, q))\n",
    "        df[num_col] = scaler.fit_transform(df[[num_col]])\n",
    "        return df[num_col]\n",
    "    elif (type == \"Robust\"):\n",
    "        scaler = RobustScaler()\n",
    "        df[num_col] = scaler.fit_transform(df[[num_col]])\n",
    "        return df[num_col]\n",
    "    elif (type == \"Standart\"):\n",
    "        scaler = StandardScaler()\n",
    "        df[num_col] = scaler.fit_transform(df[[num_col]])\n",
    "        return df[num_col]\n",
    "    else:\n",
    "        pass"
   ]
  },
  {
   "cell_type": "code",
   "execution_count": 26,
   "id": "67869ada",
   "metadata": {},
   "outputs": [],
   "source": [
    "def preprocessing(df):\n",
    "    df.loc[df[\"age\"] > 53, \"age_group\"] = \"Young\"\n",
    "    df.loc[df[\"age\"] <= 53, \"age_group\"] = \"Elderly\"\n",
    "\n",
    "    df.loc[df[\"chol\"] < 200, \"chol_risk\"] = 0#\"No Risk\"\n",
    "    df.loc[(df[\"chol\"] >= 200) & (df[\"chol\"] <= 240), \"chol_risk\"] = 1#\"Middle Risk\"\n",
    "    df.loc[df[\"chol\"] > 240, \"chol_risk\"] = 2#\"High Risk\"\n",
    "    df[\"chol_risk\"] = df[\"chol_risk\"].astype(int)\n",
    "\n",
    "    df.loc[(df[\"thalachh\"] >= 60) & (df[\"thalachh\"] <= 100), \"thalachh_situation\"] = 0#\"Normal\"\n",
    "    df.loc[df[\"thalachh\"] > 100, \"thalachh_situation\"] = 1#\"Risky\"\n",
    "    df[\"thalachh_situation\"] = df[\"thalachh_situation\"].astype(int)\n",
    "\n",
    "    df.loc[df[\"trtbps\"] < 120, \"trtbps_situation\"] = 0#\"Normal\"\n",
    "    df.loc[(df[\"trtbps\"] >= 120) & (df[\"trtbps\"] <= 139), \"trtbps_situation\"] = 1#\"High\"\n",
    "    df.loc[(df[\"trtbps\"] >= 140) & (df[\"trtbps\"] <= 159), \"trtbps_situation\"] = 2#\"Hypertension-Low\"\n",
    "    df.loc[df[\"trtbps\"] >= 160, \"trtbps_situation\"] = 3#\"Hypertension-High\"\n",
    "    df[\"trtbps_situation\"] = df[\"trtbps_situation\"].astype(int)\n",
    "\n",
    "    df.loc[df[\"cp\"].isin([1,2,3]),\"cp\"] = 1\n",
    "    df.loc[df[\"cp\"] == 0, \"cp\"] = 0\n",
    "    df[\"cp\"] = df[\"cp\"].astype(int)\n",
    "\n",
    "    df[\"scoring\"] = df[\"chol_risk\"] + df[\"thalachh_situation\"] + df[\"trtbps_situation\"]\n",
    "    df.drop([\"chol_risk\", \"thalachh_situation\", \"trtbps_situation\"], axis = 1, inplace=True)\n",
    "\n",
    "    for i in [\"scoring\", \"oldpeak\"]:\n",
    "        df[i] = feature_scaling(df,i)\n",
    "\n",
    "    df = one_hot_encoding(df, [\"age_group\",\"sex\", \"slp\", \"thall\",\"exng\", \"restecg\", \"fbs\"], drop_first=True)\n",
    "    df.drop([\"age\",\"chol\", \"thalachh\", \"trtbps\"] ,axis = 1, inplace=True)\n",
    "\n",
    "    return df\n",
    "\n",
    "data = preprocessing(data)"
   ]
  },
  {
   "cell_type": "code",
   "execution_count": 37,
   "id": "b7406546",
   "metadata": {},
   "outputs": [],
   "source": [
    "rf_params = {\"max_depth\": [8, 15, None],\n",
    "             \"max_features\": [5, 7, \"auto\"],\n",
    "             \"min_samples_split\": [15, 20],\n",
    "             \"n_estimators\": [200, 300]}\n",
    "\n",
    "\n",
    "lightgbm_params = {\"learning_rate\": [0.01, 0.1],\n",
    "                   \"n_estimators\": [300, 500],\n",
    "                   \"colsample_bytree\": [0.7, 1]}\n",
    "\n",
    "\n",
    "classifiers = [(\"RF\", RandomForestClassifier(), rf_params),\n",
    "               ('LightGBM', LGBMClassifier(), lightgbm_params)]"
   ]
  },
  {
   "cell_type": "code",
   "execution_count": 38,
   "id": "d154a41c",
   "metadata": {},
   "outputs": [
    {
     "name": "stdout",
     "output_type": "stream",
     "text": [
      "Hyperparameter Optimization....\n",
      "########## RF ##########\n",
      "roc_auc (Before): 0.9063\n",
      "roc_auc (After): 0.9217\n",
      "RF best params: {'max_depth': 8, 'max_features': 'auto', 'min_samples_split': 15, 'n_estimators': 200}\n",
      "\n",
      "########## LightGBM ##########\n",
      "roc_auc (Before): 0.9023\n",
      "roc_auc (After): 0.9126\n",
      "LightGBM best params: {'colsample_bytree': 0.7, 'learning_rate': 0.01, 'n_estimators': 500}\n",
      "\n"
     ]
    },
    {
     "data": {
      "text/plain": [
       "{'RF': RandomForestClassifier(max_depth=8, min_samples_split=15, n_estimators=200),\n",
       " 'LightGBM': LGBMClassifier(colsample_bytree=0.7, learning_rate=0.01, n_estimators=500)}"
      ]
     },
     "execution_count": 38,
     "metadata": {},
     "output_type": "execute_result"
    }
   ],
   "source": [
    "def hyperparameter_optimization_classification(X, y, cv=3, scoring=\"roc_auc\"):\n",
    "    print(\"Hyperparameter Optimization....\")\n",
    "    best_models = {}\n",
    "    for name, classifier, params in classifiers:\n",
    "        print(f\"########## {name} ##########\")\n",
    "        cv_results = cross_validate(classifier, X, y, cv=cv, scoring=scoring)\n",
    "        print(f\"{scoring} (Before): {round(cv_results['test_score'].mean(), 4)}\")\n",
    "\n",
    "        gs_best = GridSearchCV(classifier, params, cv=cv, n_jobs=-1, verbose=False).fit(X, y)\n",
    "        final_model = classifier.set_params(**gs_best.best_params_)\n",
    "\n",
    "        cv_results = cross_validate(final_model, X, y, cv=cv, scoring=scoring)\n",
    "        print(f\"{scoring} (After): {round(cv_results['test_score'].mean(), 4)}\")\n",
    "        print(f\"{name} best params: {gs_best.best_params_}\", end=\"\\n\\n\")\n",
    "        best_models[name] = final_model\n",
    "    return best_models\n",
    "\n",
    "y = data[\"output\"]\n",
    "X = data.drop(\"output\", axis = 1)\n",
    "\n",
    "hyperparameter_optimization_classification(X, y, cv=3)"
   ]
  },
  {
   "cell_type": "markdown",
   "id": "00c6d963",
   "metadata": {},
   "source": [
    "Final model"
   ]
  },
  {
   "cell_type": "code",
   "execution_count": 39,
   "id": "fab12c38",
   "metadata": {},
   "outputs": [],
   "source": [
    "y = data[\"output\"]\n",
    "X = data.drop(\"output\", axis = 1)"
   ]
  },
  {
   "cell_type": "code",
   "execution_count": 40,
   "id": "8dedc7c5",
   "metadata": {},
   "outputs": [],
   "source": [
    "svc_params = {\"decision_function_shape\": [\"ovo\", \"ovr\"],\n",
    "             \"cache_size\": [1, 2, 3, 4, 5, 10,40, 50, 100, 200, 500],\n",
    "             \"gamma\": [\"scale\", \"auto\"],\n",
    "              \"kernel\": [\"linear\", \"poly\", \"rbf\", \"sigmoid\"]}"
   ]
  },
  {
   "cell_type": "code",
   "execution_count": 41,
   "id": "0a50eaee",
   "metadata": {},
   "outputs": [
    {
     "name": "stdout",
     "output_type": "stream",
     "text": [
      "ROC-AUC: 0.9279\n"
     ]
    }
   ],
   "source": [
    "cv_result = cross_validate(SVC(), X, y, cv=3, scoring=\"roc_auc\")\n",
    "print(f\"ROC-AUC: {round(cv_result['test_score'].mean(), 4)}\")"
   ]
  },
  {
   "cell_type": "code",
   "execution_count": 42,
   "id": "75164f62",
   "metadata": {},
   "outputs": [
    {
     "name": "stdout",
     "output_type": "stream",
     "text": [
      "ROC-AUC: 0.9318\n"
     ]
    }
   ],
   "source": [
    "svc_best = GridSearchCV(SVC(), svc_params, cv=3, n_jobs=-1, verbose=False).fit(X, y)\n",
    "final_model = SVC().set_params(**svc_best.best_params_)\n",
    "cv_result = cross_validate(final_model, X, y, cv=5, scoring=\"roc_auc\")\n",
    "print(f\"ROC-AUC: {round(cv_result['test_score'].mean(), 4)}\")"
   ]
  },
  {
   "cell_type": "code",
   "execution_count": null,
   "id": "e9b9feea",
   "metadata": {},
   "outputs": [],
   "source": []
  },
  {
   "cell_type": "code",
   "execution_count": null,
   "id": "a870a7fb",
   "metadata": {},
   "outputs": [],
   "source": []
  }
 ],
 "metadata": {
  "kernelspec": {
   "display_name": "Python 3 (ipykernel)",
   "language": "python",
   "name": "python3"
  },
  "language_info": {
   "codemirror_mode": {
    "name": "ipython",
    "version": 3
   },
   "file_extension": ".py",
   "mimetype": "text/x-python",
   "name": "python",
   "nbconvert_exporter": "python",
   "pygments_lexer": "ipython3",
   "version": "3.9.5"
  }
 },
 "nbformat": 4,
 "nbformat_minor": 5
}
